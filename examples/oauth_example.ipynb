{
  "nbformat": 4,
  "nbformat_minor": 0,
  "metadata": {
    "colab": {
      "provenance": []
    },
    "kernelspec": {
      "name": "python3",
      "display_name": "Python 3"
    },
    "language_info": {
      "name": "python"
    }
  },
  "cells": [
    {
      "cell_type": "markdown",
      "source": [
        "# Install"
      ],
      "metadata": {
        "id": "OgLrs9p_q4Yp"
      }
    },
    {
      "cell_type": "code",
      "source": [
        "!pip install requests requests-oauthlib"
      ],
      "metadata": {
        "colab": {
          "base_uri": "https://localhost:8080/"
        },
        "id": "W5bvVLOpHE6s",
        "outputId": "e660f07e-c366-4bbb-f46f-62cc3f53dab5"
      },
      "execution_count": 1,
      "outputs": [
        {
          "output_type": "stream",
          "name": "stdout",
          "text": [
            "Looking in indexes: https://pypi.org/simple, https://us-python.pkg.dev/colab-wheels/public/simple/\n",
            "Requirement already satisfied: requests in /usr/local/lib/python3.10/dist-packages (2.27.1)\n",
            "Requirement already satisfied: requests-oauthlib in /usr/local/lib/python3.10/dist-packages (1.3.1)\n",
            "Requirement already satisfied: urllib3<1.27,>=1.21.1 in /usr/local/lib/python3.10/dist-packages (from requests) (1.26.15)\n",
            "Requirement already satisfied: certifi>=2017.4.17 in /usr/local/lib/python3.10/dist-packages (from requests) (2022.12.7)\n",
            "Requirement already satisfied: charset-normalizer~=2.0.0 in /usr/local/lib/python3.10/dist-packages (from requests) (2.0.12)\n",
            "Requirement already satisfied: idna<4,>=2.5 in /usr/local/lib/python3.10/dist-packages (from requests) (3.4)\n",
            "Requirement already satisfied: oauthlib>=3.0.0 in /usr/local/lib/python3.10/dist-packages (from requests-oauthlib) (3.2.2)\n"
          ]
        }
      ]
    },
    {
      "cell_type": "markdown",
      "source": [
        "#Multion"
      ],
      "metadata": {
        "id": "dPz53G26ejmZ"
      }
    },
    {
      "cell_type": "code",
      "source": [
        "from flask import Flask, request, session\n",
        "from requests_oauthlib import OAuth2Session\n",
        "from werkzeug.serving import run_simple\n",
        "from threading import Thread\n",
        "\n",
        "# Use your own client ID and client secret\n",
        "client_id = \"<client_id>\"\n",
        "client_secret = \"<client_secret>\"\n",
        "authorization_base_url = 'https://auth.multion.ai/oauth2/authorize'\n",
        "token_url = 'https://auth.multion.ai/oauth2/token'\n",
        "scope = ['write']\n",
        "\n",
        "# URL where this script is running\n",
        "redirect_uri = 'http://localhost:5000/callback'\n",
        "\n",
        "# Creating an OAuth2 session\n",
        "oauth = OAuth2Session(client_id, redirect_uri=redirect_uri)\n",
        "\n",
        "# Getting the authorization url\n",
        "authorization_url, state = oauth.authorization_url(authorization_base_url)\n",
        "\n",
        "# Print the authorization URL and ask the user to click it\n",
        "print(f\"Please go to this URL and authorize the app: {authorization_url}\")\n",
        "\n",
        "# User inputs the response URL\n",
        "redirect_response = input(\"Paste the full redirect URL here: \")\n",
        "\n",
        "# Fetching the access token\n",
        "token = oauth.fetch_token(token_url, client_secret=client_secret, authorization_response=redirect_response)"
      ],
      "metadata": {
        "colab": {
          "base_uri": "https://localhost:8080/"
        },
        "id": "422UJUe5M-Fe",
        "outputId": "a941dc5a-ec17-4c7f-ca44-9bf108979e69"
      },
      "execution_count": null,
      "outputs": [
        {
          "output_type": "stream",
          "name": "stdout",
          "text": [
            "Please go to this URL and authorize the app: https://auth.multion.ai/oauth2/authorize?response_type=code&client_id=%3Cclient_id%3E&redirect_uri=http%3A%2F%2Flocalhost%3A5000%2Fcallback&state=5MuQDkMs6DaQlnsrl6xVUfkyzr1QJo\n"
          ]
        }
      ]
    },
    {
      "cell_type": "code",
      "source": [
        "# URL for the POST request\n",
        "post_url = 'https://multion.fly.dev/sessions'\n",
        "\n",
        "# Data to send in the POST request\n",
        "data = {\n",
        "  \"input\": \"Write a friendly reply to this tweet: https://twitter.com/edreisMD/status/1670846944896487425?s=20\",\n",
        "  \"url\": \"https://twitter.com/edreisMD/status/1670846944896487425?s=20\"\n",
        "}\n",
        "\n",
        "# Include the token in the headers\n",
        "headers = {\n",
        "    'Authorization': f'Bearer {token[\"access_token\"]}',\n",
        "}\n",
        "\n",
        "# Making the POST request\n",
        "response = oauth.post(post_url, json=data, headers=headers)\n",
        "\n",
        "# Printing the response\n",
        "print(response.json())"
      ],
      "metadata": {
        "id": "_SKGOaIvef6-"
      },
      "execution_count": null,
      "outputs": []
    }
  ]
}