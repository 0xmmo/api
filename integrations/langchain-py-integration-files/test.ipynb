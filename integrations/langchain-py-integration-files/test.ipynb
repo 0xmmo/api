{
 "cells": [
  {
   "cell_type": "code",
   "execution_count": 1,
   "metadata": {},
   "outputs": [
    {
     "data": {
      "text/plain": [
       "MultionToolkit()"
      ]
     },
     "execution_count": 1,
     "metadata": {},
     "output_type": "execute_result"
    }
   ],
   "source": [
    "from langchain.agents.agent_toolkits.multion.toolkit import MultionToolkit\n",
    "import os\n",
    "\n",
    "os.environ[\"LANGCHAIN_TRACING\"] = \"true\"\n",
    "toolkit = MultionToolkit()\n",
    "\n",
    "toolkit"
   ]
  },
  {
   "cell_type": "code",
   "execution_count": 2,
   "metadata": {},
   "outputs": [
    {
     "data": {
      "text/plain": [
       "[MultionCreateSession(name='create_multion_session', description='Use this tool to create a new Multion Browser Window with provided fields.Always the first step to run any activities that can be done using browser.', args_schema=<class 'langchain.tools.multion.create_session.CreateSessionSchema'>, return_direct=False, verbose=False, callbacks=None, callback_manager=None, tags=None, metadata=None, handle_tool_error=False),\n",
       " MultionUpdateSession(name='update_multion_session', description='Use this tool to update a existing corresponding Multion Browser Window with provided fields. Note:TabId is got from one of the previous Browser window creation.', args_schema=<class 'langchain.tools.multion.update_session.UpdateSessionSchema'>, return_direct=False, verbose=False, callbacks=None, callback_manager=None, tags=None, metadata=None, handle_tool_error=False, tabId=None)]"
      ]
     },
     "execution_count": 2,
     "metadata": {},
     "output_type": "execute_result"
    }
   ],
   "source": [
    "tools = toolkit.get_tools()\n",
    "tools"
   ]
  },
  {
   "cell_type": "code",
   "execution_count": 3,
   "metadata": {},
   "outputs": [
    {
     "name": "stdout",
     "output_type": "stream",
     "text": [
      "Already logged in\n"
     ]
    }
   ],
   "source": [
    "import multion\n",
    "multion.login()\n"
   ]
  },
  {
   "cell_type": "code",
   "execution_count": 4,
   "metadata": {},
   "outputs": [],
   "source": [
    "from langchain import OpenAI\n",
    "from langchain.agents import initialize_agent, AgentType\n",
    "from langchain.agents.agent_toolkits.multion.toolkit import MultionToolkit\n",
    "\n",
    "llm = OpenAI(temperature=0, openai_api_key=\"YOUR-OPENAI-KEY\")\n",
    "\n",
    "toolkit = MultionToolkit()\n",
    "tools=toolkit.get_tools()\n",
    "\n",
    "agent = initialize_agent(\n",
    "    tools=toolkit.get_tools(),\n",
    "    llm=llm,\n",
    "    agent=AgentType.STRUCTURED_CHAT_ZERO_SHOT_REACT_DESCRIPTION,\n",
    "    verbose = True\n",
    ")"
   ]
  },
  {
   "cell_type": "code",
   "execution_count": 5,
   "metadata": {},
   "outputs": [
    {
     "name": "stderr",
     "output_type": "stream",
     "text": [
      "Failed to load default session, using empty session: HTTPConnectionPool(host='localhost', port=8000): Max retries exceeded with url: /sessions?name=default (Caused by NewConnectionError('<urllib3.connection.HTTPConnection object at 0x137ff3e50>: Failed to establish a new connection: [Errno 61] Connection refused'))\n"
     ]
    },
    {
     "name": "stdout",
     "output_type": "stream",
     "text": [
      "\n",
      "\n",
      "\u001b[1m> Entering new AgentExecutor chain...\u001b[0m\n",
      "\u001b[32;1m\u001b[1;3mAction:\n",
      "```\n",
      "{\n",
      "  \"action\": \"create_multion_session\",\n",
      "  \"action_input\": {\n",
      "    \"query\": \"top best restaurants in Palo Alto\",\n",
      "    \"url\": \"https://www.google.com/\"\n",
      "  }\n",
      "}\n",
      "```\n",
      "\u001b[0mrunning new session\n",
      "Server Disconnected. Please press connect in the Multion extention popup\n",
      "Server Disconnected. Please press connect in the Multion extention popup\n",
      "\n",
      "Observation: \u001b[36;1m\u001b[1;3m{'tabId': '1371665730', 'Response': \"I am typing the user's query into the Google search bar and submitting it to find the top best restaurants in Palo Alto.\\n\\n\"}\u001b[0m\n",
      "Thought:\u001b[32;1m\u001b[1;3m\n",
      "I need to get the list of restaurants and their rankings\n",
      "\n",
      "Action:\n",
      "```\n",
      "{\n",
      "  \"action\": \"update_multion_session\",\n",
      "  \"action_input\": {\n",
      "    \"tabId\": \"1371665730\",\n",
      "    \"query\": \"list of restaurants in Palo Alto and their rankings\",\n",
      "    \"url\": \"https://www.google.com/\"\n",
      "  }\n",
      "}\n",
      "```\n",
      "\n",
      "\u001b[0msession updated\n",
      "\n",
      "Observation: \u001b[33;1m\u001b[1;3m{'tabId': 1371665730, 'Response': \"Here are some of the top-ranked restaurants in Palo Alto according to different sources:\\n\\nFrom Eater SF:\\n1. President's Terrace\\n2. Ethel's Fancy\\n3. Bird Dog\\n4. Ramen Nagi Palo Alto\\n5. Bevri\\n6. Ettan\\n7. Evvia Estiatorio\\n8. Nola\\n9. Coconuts\\n10. The Palo Alto Creamery\\n11. Saint Michael's Alley\\n12. Sundance the Steakhouse\\n\\nFrom Tripadvisor:\\n1. Evvia\\n2. Oren's Hummus\\n3. Sundance The Steakhouse\\n4. Tamarine Restaurant\\n5. Dinah's Poolside Restaurant\\n6. Joanie's Cafe\\n7. Terun\\n8. The Fish Market - Palo Alto\\n\\nFrom Time Out:\\n1. President's Terrace\\n2. Vina Enoteca\\n3. Evvia Estiatorio\\n4. Zareen's\\n5. Tamarine\\n6. Bird Dog\\n7. Oren's Hummus\\n8. Bevri\\n\\nFrom Yelp:\\n1. Ikuka\\n2. Los Altos Grill\\n3. Tal Palo\\n4. Limon\\n5. Hiroshi\\n\\nPlease note that the rankings may vary based on different criteria used by each source.\\n\\n\"}\u001b[0m\n",
      "Thought:"
     ]
    },
    {
     "name": "stderr",
     "output_type": "stream",
     "text": [
      "Failed to persist run: HTTPConnectionPool(host='localhost', port=8000): Max retries exceeded with url: /chain-runs (Caused by NewConnectionError('<urllib3.connection.HTTPConnection object at 0x146d1d550>: Failed to establish a new connection: [Errno 61] Connection refused'))\n"
     ]
    },
    {
     "name": "stdout",
     "output_type": "stream",
     "text": [
      "\u001b[32;1m\u001b[1;3m\n",
      "I have the list of restaurants and their rankings\n",
      "\n",
      "Action:\n",
      "```\n",
      "{\n",
      "  \"action\": \"Final Answer\",\n",
      "  \"action_input\": \"Here are some of the top-ranked restaurants in Palo Alto according to different sources: From Eater SF: 1. President's Terrace, 2. Ethel's Fancy, 3. Bird Dog, 4. Ramen Nagi Palo Alto, 5. Bevri, 6. Ettan, 7. Evvia Estiatorio, 8. Nola, 9. Coconuts, 10. The Palo Alto Creamery, 11. Saint Michael's Alley, 12. Sundance the Steakhouse. From Tripadvisor: 1. Evvia, 2. Oren's Hummus, 3. Sundance The Steakhouse, 4. Tamarine Restaurant, 5. Dinah's Poolside Restaurant, 6. Joanie's Cafe, 7. Terun, 8. The Fish Market - Palo Alto. From Time Out: 1. President's Terrace, 2. Vina Enoteca, 3. Evvia Estiatorio, 4. Zareen's, 5. Tamarine, 6. Bird Dog, 7. Oren's Hummus, 8\u001b[0m\n",
      "\n",
      "\u001b[1m> Finished chain.\u001b[0m\n",
      "\n",
      "I have the list of restaurants and their rankings\n",
      "\n",
      "Action:\n",
      "```\n",
      "{\n",
      "  \"action\": \"Final Answer\",\n",
      "  \"action_input\": \"Here are some of the top-ranked restaurants in Palo Alto according to different sources: From Eater SF: 1. President's Terrace, 2. Ethel's Fancy, 3. Bird Dog, 4. Ramen Nagi Palo Alto, 5. Bevri, 6. Ettan, 7. Evvia Estiatorio, 8. Nola, 9. Coconuts, 10. The Palo Alto Creamery, 11. Saint Michael's Alley, 12. Sundance the Steakhouse. From Tripadvisor: 1. Evvia, 2. Oren's Hummus, 3. Sundance The Steakhouse, 4. Tamarine Restaurant, 5. Dinah's Poolside Restaurant, 6. Joanie's Cafe, 7. Terun, 8. The Fish Market - Palo Alto. From Time Out: 1. President's Terrace, 2. Vina Enoteca, 3. Evvia Estiatorio, 4. Zareen's, 5. Tamarine, 6. Bird Dog, 7. Oren's Hummus, 8\n"
     ]
    }
   ],
   "source": [
    "temp = agent.run(\n",
    "    \"what are top best restuarants in Palo Alto and list them based on their ranks\"\n",
    ")\n",
    "print(f\"{temp}\")"
   ]
  },
  {
   "cell_type": "code",
   "execution_count": 8,
   "metadata": {},
   "outputs": [
    {
     "name": "stderr",
     "output_type": "stream",
     "text": [
      "Failed to load default session, using empty session: HTTPConnectionPool(host='localhost', port=8000): Max retries exceeded with url: /sessions?name=default (Caused by NewConnectionError('<urllib3.connection.HTTPConnection object at 0x147d3d610>: Failed to establish a new connection: [Errno 61] Connection refused'))\n"
     ]
    },
    {
     "name": "stdout",
     "output_type": "stream",
     "text": [
      "\n",
      "\n",
      "\u001b[1m> Entering new AgentExecutor chain...\u001b[0m\n"
     ]
    },
    {
     "name": "stderr",
     "output_type": "stream",
     "text": [
      "Failed to persist run: HTTPConnectionPool(host='localhost', port=8000): Max retries exceeded with url: /chain-runs (Caused by NewConnectionError('<urllib3.connection.HTTPConnection object at 0x14d285d10>: Failed to establish a new connection: [Errno 61] Connection refused'))\n"
     ]
    },
    {
     "name": "stdout",
     "output_type": "stream",
     "text": [
      "\u001b[32;1m\u001b[1;3mAction:\n",
      "```\n",
      "{\n",
      "  \"action\": \"Final Answer\",\n",
      "  \"action_input\": \"AI is revolutionizing the way we interact with the world. From self-driving cars to voice-activated assistants, AI is making our lives easier and more efficient. #multion\"\n",
      "}\n",
      "```\n",
      "\u001b[0m\n",
      "\n",
      "\u001b[1m> Finished chain.\u001b[0m\n"
     ]
    },
    {
     "data": {
      "text/plain": [
       "'AI is revolutionizing the way we interact with the world. From self-driving cars to voice-activated assistants, AI is making our lives easier and more efficient. #multion'"
      ]
     },
     "execution_count": 8,
     "metadata": {},
     "output_type": "execute_result"
    }
   ],
   "source": [
    "agent.run(\"make a 100 word tweet on AI and hashtag #multion on my twitter\")"
   ]
  },
  {
   "cell_type": "code",
   "execution_count": 9,
   "metadata": {},
   "outputs": [
    {
     "name": "stderr",
     "output_type": "stream",
     "text": [
      "Failed to load default session, using empty session: HTTPConnectionPool(host='localhost', port=8000): Max retries exceeded with url: /sessions?name=default (Caused by NewConnectionError('<urllib3.connection.HTTPConnection object at 0x14d0f5110>: Failed to establish a new connection: [Errno 61] Connection refused'))\n"
     ]
    },
    {
     "name": "stdout",
     "output_type": "stream",
     "text": [
      "\n",
      "\n",
      "\u001b[1m> Entering new AgentExecutor chain...\u001b[0m\n",
      "\u001b[32;1m\u001b[1;3mAction:\n",
      "```\n",
      "{\n",
      "  \"action\": \"create_multion_session\",\n",
      "  \"action_input\": {\n",
      "    \"query\": \"top 5 NBA championship teams\",\n",
      "    \"url\": \"https://www.google.com/\"\n",
      "  }\n",
      "}\n",
      "```\n",
      "\u001b[0mrunning new session\n",
      "\n",
      "Observation: \u001b[36;1m\u001b[1;3m{'tabId': '1371665734', 'Response': 'I am searching for the top 5 NBA championship teams on Google.\\n\\n'}\u001b[0m\n",
      "Thought:\u001b[32;1m\u001b[1;3m I need to update the session\n",
      "Action:\n",
      "```\n",
      "{\n",
      "  \"action\": \"update_multion_session\",\n",
      "  \"action_input\": {\n",
      "    \"tabId\": \"1371665734\",\n",
      "    \"query\": \"top 5 NBA championship teams\",\n",
      "    \"url\": \"https://www.google.com/\"\n",
      "  }\n",
      "}\n",
      "```\n",
      "\n",
      "\u001b[0msession updated\n",
      "\n",
      "Observation: \u001b[33;1m\u001b[1;3m{'tabId': 1371665734, 'Response': 'The top 5 NBA championship teams are:\\n1. Los Angeles Lakers - 17 titles\\n2. Boston Celtics - 17 titles\\n3. Golden State Warriors - 7 titles\\n4. Chicago Bulls - 6 titles\\n5. San Antonio Spurs - 5 titles\\n\\n'}\u001b[0m\n",
      "Thought:"
     ]
    },
    {
     "name": "stderr",
     "output_type": "stream",
     "text": [
      "Failed to persist run: HTTPConnectionPool(host='localhost', port=8000): Max retries exceeded with url: /chain-runs (Caused by NewConnectionError('<urllib3.connection.HTTPConnection object at 0x14d0f8210>: Failed to establish a new connection: [Errno 61] Connection refused'))\n"
     ]
    },
    {
     "name": "stdout",
     "output_type": "stream",
     "text": [
      "\u001b[32;1m\u001b[1;3m I have the answer\n",
      "Action:\n",
      "```\n",
      "{\n",
      "  \"action\": \"Final Answer\",\n",
      "  \"action_input\": \"The top 5 NBA championship teams are: \\n1. Los Angeles Lakers - 17 titles \\n2. Boston Celtics - 17 titles \\n3. Golden State Warriors - 7 titles \\n4. Chicago Bulls - 6 titles \\n5. San Antonio Spurs - 5 titles\"\n",
      "}\n",
      "```\u001b[0m\n",
      "\n",
      "\u001b[1m> Finished chain.\u001b[0m\n"
     ]
    },
    {
     "data": {
      "text/plain": [
       "'The top 5 NBA championship teams are: \\n1. Los Angeles Lakers - 17 titles \\n2. Boston Celtics - 17 titles \\n3. Golden State Warriors - 7 titles \\n4. Chicago Bulls - 6 titles \\n5. San Antonio Spurs - 5 titles'"
      ]
     },
     "execution_count": 9,
     "metadata": {},
     "output_type": "execute_result"
    }
   ],
   "source": [
    "agent.run(f\"Find the top 5 NBA championship teams and present them in bulleted points\")"
   ]
  }
 ],
 "metadata": {
  "kernelspec": {
   "display_name": "venv",
   "language": "python",
   "name": "python3"
  },
  "language_info": {
   "codemirror_mode": {
    "name": "ipython",
    "version": 3
   },
   "file_extension": ".py",
   "mimetype": "text/x-python",
   "name": "python",
   "nbconvert_exporter": "python",
   "pygments_lexer": "ipython3",
   "version": "3.11.4"
  },
  "orig_nbformat": 4
 },
 "nbformat": 4,
 "nbformat_minor": 2
}
