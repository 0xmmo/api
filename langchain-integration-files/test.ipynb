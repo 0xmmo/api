{
 "cells": [
  {
   "cell_type": "code",
   "execution_count": null,
   "metadata": {},
   "outputs": [
    {
     "name": "stdout",
     "output_type": "stream",
     "text": [
      " * Serving Flask app 'multion.multion'\n",
      " * Debug mode: off\n"
     ]
    },
    {
     "name": "stderr",
     "output_type": "stream",
     "text": [
      "WARNING: This is a development server. Do not use it in a production deployment. Use a production WSGI server instead.\n",
      " * Running on https://127.0.0.1:8000\n",
      "Press CTRL+C to quit\n",
      "127.0.0.1 - - [17/Jul/2023 21:04:54] \"GET /callback?code=ad41e808-c8e9-4c0d-9731-17e331067ec4&state=liHMkcCXp45SuGmb8yB5QsrUiPpzzK HTTP/1.1\" 200 -\n"
     ]
    },
    {
     "name": "stdout",
     "output_type": "stream",
     "text": [
      "{'id_token': 'eyJraWQiOiJYd0xieDZGTUgyZmlwQlRzQzRScXFscXg3eVgzMXYxWGIybEQxYlZVdERNPSIsImFsZyI6IlJTMjU2In0.eyJhdF9oYXNoIjoidjlfcTFTZ2NrR1ZNZ3JwZUp1RDl3dyIsInN1YiI6IjExMGZkZDNkLTJhZTQtNDYxNS05M2EzLWQwYjUxMjk5NWI2ZSIsImVtYWlsX3ZlcmlmaWVkIjp0cnVlLCJpc3MiOiJodHRwczpcL1wvY29nbml0by1pZHAudXMtZWFzdC0xLmFtYXpvbmF3cy5jb21cL3VzLWVhc3QtMV9uZk9ZSDhkckMiLCJjb2duaXRvOnVzZXJuYW1lIjoiMTEwZmRkM2QtMmFlNC00NjE1LTkzYTMtZDBiNTEyOTk1YjZlIiwib3JpZ2luX2p0aSI6IjY4Y2ExOWU0LWYwMTEtNGYxYS05ZmI4LTUwMDYwNjMzMzYyYiIsImF1ZCI6IjF1M2hycHFvOG1jOHZ1YmphdjJldTk2cjM2IiwidG9rZW5fdXNlIjoiaWQiLCJhdXRoX3RpbWUiOjE2ODk2MDgwOTYsImV4cCI6MTY4OTYxMTY5NiwiaWF0IjoxNjg5NjA4MDk2LCJqdGkiOiI0OWQwZjcyNi0xY2QyLTQ1MzktYjUyOS1jMDVlNWEyOTI1NTQiLCJlbWFpbCI6ImthcnRoaWtyYWphMmsxQGdtYWlsLmNvbSJ9.wZXNdGljF4BcUarJE-kAilCNQH_zV75OYORBHkS6hyuVWjIwCuuyWAVdIuJ7mu2tMSGNdWn2x9w01OCEZ2A_YhaLSeeAfwTI0AiUi-9IMcmPDIyoJCZacmGCdUzrsQIuq6Ddb2X1JpdWiL5tysNvQOu1mh0fXXua0qdx8YdyR0QJkBtr6EpFHPk7BsZonCNseqCNHLAcFtRWHEEGXFIVhio7dWtCXYgfjUCBgiAPx0Elm6UED58eJt7UL7yQlwil6CdAthFeTF9U8eL-u-2XchZi1j8U-nR29LYjzUMfm-Rt1g1VVqTq-WEdTibA6wgC8aTxRcEYA15XajEKm3_zLw', 'access_token': 'eyJraWQiOiJjQmd4XC9QOGJwempzTHd4NXZmUHhETmFYXC9QZFFjQnByU2pXRUlHS3EwZUU9IiwiYWxnIjoiUlMyNTYifQ.eyJzdWIiOiIxMTBmZGQzZC0yYWU0LTQ2MTUtOTNhMy1kMGI1MTI5OTViNmUiLCJpc3MiOiJodHRwczpcL1wvY29nbml0by1pZHAudXMtZWFzdC0xLmFtYXpvbmF3cy5jb21cL3VzLWVhc3QtMV9uZk9ZSDhkckMiLCJ2ZXJzaW9uIjoyLCJjbGllbnRfaWQiOiIxdTNocnBxbzhtYzh2dWJqYXYyZXU5NnIzNiIsIm9yaWdpbl9qdGkiOiI2OGNhMTllNC1mMDExLTRmMWEtOWZiOC01MDA2MDYzMzM2MmIiLCJ0b2tlbl91c2UiOiJhY2Nlc3MiLCJzY29wZSI6InBob25lIG9wZW5pZCBlbWFpbCIsImF1dGhfdGltZSI6MTY4OTYwODA5NiwiZXhwIjoxNjg5NjExNjk2LCJpYXQiOjE2ODk2MDgwOTYsImp0aSI6ImVmZjdlOWEwLTE1NjktNGE3NC1hNWUwLWY0ODAwNzY4YWE1OCIsInVzZXJuYW1lIjoiMTEwZmRkM2QtMmFlNC00NjE1LTkzYTMtZDBiNTEyOTk1YjZlIn0.frXrPeWY7C0so62KLiEO38rXAcTpjMIFGIC1whCq52B54GZY4c4XYvGOHgidHiWOl1ghEz-wme1gpVgvWKlDpLXbcKgfegc-EnuZrzqaaeOnzKfKuJ4yCK5V9aQeUy1ajjU78b--LHHJ4jAUbNH9mCd8IvUuOFegbjUiI_n1Lc_XLRGn73_ghqUYcQmKDlvNodYS8P3z1yFA8uj2Oxs4BercL0M6sf4wQ-vTEwfot3b6NVo9eqA3Wgh3e7zgc_xkxTA2NbEQ4F5vdw5RnvLLXFH5ooKSF8LyuciRG3A2DhlVguHAxd3e9bEeKSBN43jsxJ7uRSjPBrzmyAVt8uu8vg', 'refresh_token': 'eyJjdHkiOiJKV1QiLCJlbmMiOiJBMjU2R0NNIiwiYWxnIjoiUlNBLU9BRVAifQ.PVqpvac_z-XWOmA4cr90ayGFf-1DnIBJXmgmMZifJ9zQM5qIIxHZTLYU-0bytuD_laBuBu0lQTI6i6q0hJei3nXbHZmZvmVaMICf79Ls5f2ehKG1whobRyXQ_NaJYrImmKsf7uzN4hZvH7hpbQnGq5p1CqmG0VuznHVuHRjTNsfzgNVa0gZs7wb7pLs4eQTREklDyoXQ60sqSj8ixru7WJbBSnvI7xMsCkPrbFKlT0hDXYKyyJ0MjFytlunxYEYkp0BIRVanbTKbGyFNRajzhRF0OqJNBelNQh8uzi5kjQXdaij-18RPPVVpwc1plTOMExZi1mpdaolJdDVv0abnAg.Zt9C44WTOwolAbL8.GoE99OqUdFrYNibokiMyCFxx6qYpQ_NzHA3vOEudVmlV_7lg2pdfdxb_vnKZtCgMohdJnEkQnyx6ieP_B7Ho5saZ-AkcnG_ztWVMJr4hJ0xlgFlmzh6_BZzU7NCse9B0CQt1dPuKzYWr9pw1JNvwU2z-KE7NN9aXq8IEXQpEcyxMtlFBt0LGZ5hSm1mmGnVMDCe_XWlv9KLCYHRBvGCtQIZquHakQqQReGhM9UX0oZ2XTA23I__XPaLBYjyFkMCoRyvu51YPmkL0i5AOCQUpv1ZBUCjK6vGjwjCuTqmjuavybiz9rqMgpoWGCIknxaM6e3n-LwyQOaefP-UAogtjBknS5--FeUc0bS-skUB1AEavPYTOD03Ms846pyiTcn_MkDsVhcWvdKMnfCWMMmUViJ1CITGLg-EofnZW7VSSzKVl1cUD1ZH2NBMNbJQn53wWxgDRpLXtxJejr2fH0jTlA1y0da6k2Ml5NtIDWxx-mPMkIZLJQMBFRGaTDmmnaIeTL5DTDXYsDWUOnRHj4C-E3G08yN56jnG45amhJN7v-lQMp4uCTGt_i4kcVnr4D2B095eJwA7yfsPt0m4nLs0WHlvDgRexSyzzH5hxis9jGbPvyub2qCGb5E287VnnElTRx7ejQZJVQcPrhXfzjlDB-DkdFAdYakWCajet6KCrf5osNzmf0ioXTQh7GmCGkTOxEzJRi7lBtMnBf0ECdKTFNl3sKyj4EvDnhY73CrYRzJU9r-a7sFSXwnOJmHm3WE5vL0eYsyWWaN9ZK22Z3GU8Di9pYnRDHsyDcyLAMioa_GPTVwLJsSCUbmdyCQikoic96QyMOZLWsn7aqEWu_KbK6hZ9fzy_ymgJ8p9SvYydmEkWsZtE21fd1mA7m9tX5EvRmIVGtCeeQx6bqeMII2CpU4dJM5uinqC-PFX9HO4bNZih-TfwiSNzJ5Dqz1sd6UOPjZZWWELdkLK11-itXadQ0hUreRqosqupz4zKxmZFah6DQ6ISW3ewjw2Q-AKcx2UiWld-u2v9nRyBMJ0B0kox1hEvdl0qqKa8ZsamVtla3_CXTPZ8cyoJcVuuBV9NLah2jgOmt2g096hYpAcnYMIcbNMZzViG9owVLmvd6jQa5OelqazsZfktdkeM4Jdd8Hd3r9-HHrx8ul3bPHDEtrmsdgyZv6vNGo2TzqJofAl0iYJpQdKf2N1m9AEcs4icc0qVuf7igdOP9fWbaj0M8TlmiYjjyHeaRWg_kns.YGN-xwAsKA9obnD7Nweztw', 'expires_in': 3600, 'token_type': 'Bearer', 'expires_at': 1689611694.1077008}\n"
     ]
    }
   ],
   "source": [
    "from langchain.agents.agent_toolkits import create_multion_agent\n",
    "from langchain.tools.multion.tool import MultionClientTool\n",
    "from langchain.agents.agent_types import AgentType\n",
    "from langchain.chat_models import ChatOpenAI\n",
    "import multion \n",
    "multion.login()\n"
   ]
  },
  {
   "cell_type": "code",
   "execution_count": 2,
   "metadata": {},
   "outputs": [],
   "source": [
    "\n",
    "agent_executor = create_multion_agent(\n",
    "    llm=ChatOpenAI(temperature=0),\n",
    "    tool=MultionClientTool(),\n",
    "    agent_type=AgentType.OPENAI_FUNCTIONS,\n",
    "    verbose=True\n",
    ")\n"
   ]
  },
  {
   "cell_type": "code",
   "execution_count": 3,
   "metadata": {},
   "outputs": [
    {
     "name": "stdout",
     "output_type": "stream",
     "text": [
      "\n",
      "\n",
      "\u001b[1m> Entering new  chain...\u001b[0m\n",
      "\u001b[32;1m\u001b[1;3m\n",
      "Invoking: `Multion_Client` with `search beautiful pictures of new york`\n",
      "\n",
      "\n",
      "\u001b[0mtest1\n",
      "search beautiful pictures of new york https://www.google.com/\n",
      "running post\n"
     ]
    }
   ],
   "source": [
    "agent_executor.run(input=\"show beautiful pictures of new york\",url=\"https://www.google.com/ \")"
   ]
  }
 ],
 "metadata": {
  "kernelspec": {
   "display_name": "venv",
   "language": "python",
   "name": "python3"
  },
  "language_info": {
   "codemirror_mode": {
    "name": "ipython",
    "version": 3
   },
   "file_extension": ".py",
   "mimetype": "text/x-python",
   "name": "python",
   "nbconvert_exporter": "python",
   "pygments_lexer": "ipython3",
   "version": "3.10.9"
  },
  "orig_nbformat": 4
 },
 "nbformat": 4,
 "nbformat_minor": 2
}
