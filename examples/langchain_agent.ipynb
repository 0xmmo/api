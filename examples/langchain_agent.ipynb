{
 "cells": [
  {
   "cell_type": "code",
   "execution_count": null,
   "metadata": {},
   "outputs": [],
   "source": [
    "import multion\n",
    "\n",
    "multion.login()\n",
    "\n",
    "# Now you can make API calls like this:\n",
    "# response = multion.post('https://multion.fly.dev/sessions', {\"input\": \"some input\",\"url\": \"some url\"})\n"
   ]
  },
  {
   "cell_type": "code",
   "execution_count": null,
   "metadata": {},
   "outputs": [],
   "source": []
  }
 ],
 "metadata": {
  "language_info": {
   "name": "python"
  },
  "orig_nbformat": 4
 },
 "nbformat": 4,
 "nbformat_minor": 2
}
