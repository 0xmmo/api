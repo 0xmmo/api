{
 "cells": [
  {
   "cell_type": "code",
   "execution_count": 1,
   "id": "715ab235",
   "metadata": {
    "tags": []
   },
   "outputs": [],
   "source": [
    "from dotenv import dotenv_values\n",
    "import os\n",
    "\n",
    "from agents import setup_sync_agent\n",
    "\n",
    "env_config = dotenv_values(\".local.env\")\n",
    "OPENAI_MODEL_NAME = env_config.get(\"OPENAI_MODEL_NAME\", \"text-davinci-003\")\n",
    "OPENAI_API_KEY = env_config[\"OPENAI_API_KEY\"]\n",
    "DATA_LOCATION = env_config[\"DATA_LOCATION\"]\n",
    "os.environ[\"SERP_API_KEY\"] = env_config[\"SERP_API_KEY\"]\n",
    "\n",
    "\n",
    "USERNAME=\"Div\"\n",
    "USER_EMAIL=\"div@multion.ai\""
   ]
  },
  {
   "cell_type": "code",
   "execution_count": 2,
   "id": "7e3bf870-ec4c-4921-a98d-7c82662d80cf",
   "metadata": {
    "tags": []
   },
   "outputs": [],
   "source": [
    "chat_history = \"\"\"\\\n",
    "Harry Potter: Hey all! Very excited to watch Oppenheimer in IMAX this weekend 😍. I’d like to take you guys out to dinner after, my treat. Are you all free?\n",
    "Hermione Granger: Hmm maybe\n",
    "Hermione Granger: I wanna watch it really soon though. Friday works for me, not sure about Ron\n",
    "Harry Potter: If not, let’s do it next week.\n",
    "Voldemort: Potter, I’m free except Monday and Thursday, if you want an Avada Kedavra for dessert.\n",
    "Ron Weasley: Yeah next week is cray but you should come to the show Thursday\n",
    "Ron Weasley: Friday works\n",
    "Harry Potter:  Let's do Friday. I'm adding Mion to this thread to help schedule dinner.\"\"\"\n",
    "\n",
    "chat_history_stage_two = \"\"\"\\\n",
    "Ron Weasley: I'm allergic to Mandrakes.\n",
    "Harry Potter: Let's go to Hogsmeade\n",
    "Voldemort: Sounds good 💀\n",
    "Hermione Granger: Sounds good\"\"\"\n",
    "\n",
    "chat_history_stage_three = \"\"\"\\\n",
    "Ron Weasley: Just the vegetarian thing.\\\n",
    "\"\"\"\n",
    "\n",
    "chat_history_stage_four = \"\"\"\\\n",
    "Ron Weasley: I'm making an executive decision for Italian.\\\n",
    "\"\"\""
   ]
  },
  {
   "cell_type": "code",
   "execution_count": 3,
   "id": "c3667b63",
   "metadata": {},
   "outputs": [],
   "source": [
    "def run_agent(user, chat_history):\n",
    "    *chat_history, input_ = chat_history.split(\"\\n\")\n",
    "    chat_history = \"\\n\".join(chat_history)\n",
    "    #buffer = load_memory_for_user(user)\n",
    "    # TODO: check if agent is already running for this user, use agent scratchpad if so\n",
    "    agent_executor = setup_sync_agent(buffer=None, user=user, openai_api_key=OPENAI_API_KEY)\n",
    "    inputs = {\n",
    "        \"input\": input_,\n",
    "        \"chat_history\": chat_history,\n",
    "    }\n",
    "    resp = agent_executor.run(inputs)\n",
    "    #new_buffer = agent_executor.memory.buffer\n",
    "    #save_memory_for_user(user, new_buffer)\n",
    "    return resp"
   ]
  },
  {
   "cell_type": "code",
   "execution_count": 4,
   "id": "0947f06e",
   "metadata": {},
   "outputs": [
    {
     "name": "stdout",
     "output_type": "stream",
     "text": [
      "buffer is  []\n",
      "\n",
      "\n",
      "\u001b[1m> Entering new AgentExecutor chain...\u001b[0m\n",
      "\u001b[32;1m\u001b[1;3mThought: Do I need to use a tool? No\n",
      "Mion: Hi everyone! I'm Mion and I'm here to help you schedule dinner. It sounds like you'd like to schedule dinner on Friday. Could you please indicate the type of cuisine and the preferred location?\u001b[0m\n",
      "\n",
      "\u001b[1m> Finished chain.\u001b[0m\n"
     ]
    },
    {
     "data": {
      "text/plain": [
       "\"Hi everyone! I'm Mion and I'm here to help you schedule dinner. It sounds like you'd like to schedule dinner on Friday. Could you please indicate the type of cuisine and the preferred location?\""
      ]
     },
     "execution_count": 4,
     "metadata": {},
     "output_type": "execute_result"
    }
   ],
   "source": [
    "result1 = run_agent(\"Harry\", chat_history); result1"
   ]
  },
  {
   "cell_type": "code",
   "execution_count": 5,
   "id": "1c3137d0",
   "metadata": {},
   "outputs": [
    {
     "name": "stdout",
     "output_type": "stream",
     "text": [
      "buffer is  []\n",
      "\n",
      "\n",
      "\u001b[1m> Entering new AgentExecutor chain...\u001b[0m\n",
      "\u001b[32;1m\u001b[1;3mThought: Do I need to use a tool? Yes\n",
      "Action: Take Note\n",
      "Action Input: Ron Weasley is allergic to Mandrakes.\u001b[0m\u001b[36;1m\u001b[1;3mNo user found\u001b[0m\u001b[32;1m\u001b[1;3mDo I need to use a tool? No\n",
      "Mion: Great! We have a consensus on the location, Hogsmeade. Now, could you please indicate the type of cuisine you'd prefer for the dinner? Please remember that Ron is allergic to Mandrakes.\u001b[0m\n",
      "\n",
      "\u001b[1m> Finished chain.\u001b[0m\n"
     ]
    },
    {
     "data": {
      "text/plain": [
       "\"Great! We have a consensus on the location, Hogsmeade. Now, could you please indicate the type of cuisine you'd prefer for the dinner? Please remember that Ron is allergic to Mandrakes.\""
      ]
     },
     "execution_count": 5,
     "metadata": {},
     "output_type": "execute_result"
    }
   ],
   "source": [
    "result2 = run_agent(\"Harry\", chat_history + \"\\nMion: \" + result1 + \"\\n\" +  chat_history_stage_two)\n",
    "result2"
   ]
  },
  {
   "cell_type": "code",
   "execution_count": 6,
   "id": "14067bc5",
   "metadata": {},
   "outputs": [
    {
     "name": "stdout",
     "output_type": "stream",
     "text": [
      "buffer is  []\n",
      "\n",
      "\n",
      "\u001b[1m> Entering new AgentExecutor chain...\u001b[0m\n",
      "\u001b[32;1m\u001b[1;3mThought: Do I need to use a tool? No\n",
      "Mion: Noted, Ron. So, we're looking for a vegetarian restaurant in Hogsmeade. Does everyone agree with this?\u001b[0m\n",
      "\n",
      "\u001b[1m> Finished chain.\u001b[0m\n"
     ]
    },
    {
     "data": {
      "text/plain": [
       "\"Noted, Ron. So, we're looking for a vegetarian restaurant in Hogsmeade. Does everyone agree with this?\""
      ]
     },
     "execution_count": 6,
     "metadata": {},
     "output_type": "execute_result"
    }
   ],
   "source": [
    "result3 = run_agent(\n",
    "    \"Harry\", \n",
    "    chat_history + \"\\nMion: \" + result1 + \"\\n\" +  chat_history_stage_two\n",
    "    + \"\\nMion: \" + result2 + \"\\n\" + chat_history_stage_three\n",
    ")\n",
    "result3"
   ]
  },
  {
   "cell_type": "code",
   "execution_count": 7,
   "id": "c2e3ee8f-0396-440d-98cd-74fd1915ab20",
   "metadata": {
    "tags": []
   },
   "outputs": [
    {
     "name": "stdout",
     "output_type": "stream",
     "text": [
      "buffer is  []\n",
      "\n",
      "\n",
      "\u001b[1m> Entering new AgentExecutor chain...\u001b[0m\n",
      "\u001b[32;1m\u001b[1;3mThought: Do I need to use a tool? Yes\n",
      "Action: Google Maps Search\n",
      "Action Input: Italian vegetarian restaurant Hogsmeade\u001b[0m[{'title': 'Three Broomsticks', 'description': \"Harry Potter-themed eatery at Universal. Popular Harry Potter-themed cafeteria selling British eats in Universal's Islands of Adventure.\"}, {'title': 'Plant Based Mafia', 'description': None}, {'title': 'Mythos Restaurant', 'description': \"Mythical undersea-themed American dining. Overlooking Universal Studios' Inland Sea, this mythic underwater-themed spot serves American fare.\"}]\n",
      "\u001b[33;1m\u001b[1;3m[{'title': 'Three Broomsticks', 'description': \"Harry Potter-themed eatery at Universal. Popular Harry Potter-themed cafeteria selling British eats in Universal's Islands of Adventure.\"}, {'title': 'Plant Based Mafia', 'description': None}, {'title': 'Mythos Restaurant', 'description': \"Mythical undersea-themed American dining. Overlooking Universal Studios' Inland Sea, this mythic underwater-themed spot serves American fare.\"}]\u001b[0m\n",
      "\u001b[32;1m\u001b[1;3m\u001b[0m\n",
      "\n",
      "\u001b[1m> Finished chain.\u001b[0m\n"
     ]
    },
    {
     "data": {
      "text/plain": [
       "[{'title': 'Three Broomsticks',\n",
       "  'description': \"Harry Potter-themed eatery at Universal. Popular Harry Potter-themed cafeteria selling British eats in Universal's Islands of Adventure.\"},\n",
       " {'title': 'Plant Based Mafia', 'description': None},\n",
       " {'title': 'Mythos Restaurant',\n",
       "  'description': \"Mythical undersea-themed American dining. Overlooking Universal Studios' Inland Sea, this mythic underwater-themed spot serves American fare.\"}]"
      ]
     },
     "execution_count": 7,
     "metadata": {},
     "output_type": "execute_result"
    }
   ],
   "source": [
    "result4 = run_agent(\n",
    "    \"Harry\", \n",
    "    chat_history + \"\\nMion: \" + result1 + \"\\n\" +  chat_history_stage_two\n",
    "    + \"\\nMion: \" + result2 + \"\\n\" + chat_history_stage_three\n",
    "    + \"\\nMion: \" + str(result3) + \"\\n\" + chat_history_stage_four\n",
    ")\n",
    "result4"
   ]
  },
  {
   "cell_type": "code",
   "execution_count": null,
   "id": "4b278eda",
   "metadata": {},
   "outputs": [],
   "source": []
  }
 ],
 "metadata": {
  "kernelspec": {
   "display_name": "Python 3",
   "language": "python",
   "name": "python3"
  },
  "language_info": {
   "codemirror_mode": {
    "name": "ipython",
    "version": 3
   },
   "file_extension": ".py",
   "mimetype": "text/x-python",
   "name": "python",
   "nbconvert_exporter": "python",
   "pygments_lexer": "ipython3",
   "version": "3.11.3"
  }
 },
 "nbformat": 4,
 "nbformat_minor": 5
}
